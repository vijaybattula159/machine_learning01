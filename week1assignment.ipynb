{
  "nbformat": 4,
  "nbformat_minor": 0,
  "metadata": {
    "colab": {
      "name": "week1assignment.ipynb",
      "provenance": [],
      "include_colab_link": true
    },
    "kernelspec": {
      "name": "python3",
      "display_name": "Python 3"
    }
  },
  "cells": [
    {
      "cell_type": "markdown",
      "metadata": {
        "id": "view-in-github",
        "colab_type": "text"
      },
      "source": [
        "<a href=\"https://colab.research.google.com/github/vijaybattula159/machine_learning01/blob/master/week1assignment.ipynb\" target=\"_parent\"><img src=\"https://colab.research.google.com/assets/colab-badge.svg\" alt=\"Open In Colab\"/></a>"
      ]
    },
    {
      "cell_type": "code",
      "metadata": {
        "id": "F-6bE0dYcBgA",
        "colab_type": "code",
        "colab": {}
      },
      "source": [
        "## Import stuff\n",
        " \n",
        "import numpy as np\n",
        "from sklearn import datasets, linear_model, metrics"
      ],
      "execution_count": 0,
      "outputs": []
    },
    {
      "cell_type": "markdown",
      "metadata": {
        "id": "KNtpcQ_fZaoi",
        "colab_type": "text"
      },
      "source": [
        ""
      ]
    },
    {
      "cell_type": "code",
      "metadata": {
        "id": "gK71NIhMcEs5",
        "colab_type": "code",
        "colab": {}
      },
      "source": [
        "## Load the diabetes dataset\n",
        "diabetes = datasets.load_diabetes()\n",
        "diabetes_X = diabetes.data # matrix of dimensions 442x10\n",
        "\n",
        "# Split the data into training/testing sets\n",
        "diabetes_X_train = diabetes_X[:-20]\n",
        "diabetes_X_test = diabetes_X[-20:]\n",
        " \n",
        "# Split the targets into training/testing sets\n",
        "diabetes_y_train = diabetes.target[:-20]\n",
        "diabetes_y_test = diabetes.target[-20:]\n"
      ],
      "execution_count": 0,
      "outputs": []
    },
    {
      "cell_type": "code",
      "metadata": {
        "id": "XJTg22ybcHsl",
        "colab_type": "code",
        "colab": {
          "base_uri": "https://localhost:8080/",
          "height": 1000
        },
        "outputId": "217d9686-f047-4ee8-db3a-bab10dd775b3"
      },
      "source": [
        "# train\n",
        "X = diabetes_X_train\n",
        "y = diabetes_y_train\n",
        " \n",
        "# train: init\n",
        "W = np.zeros(10)\n",
        "b = 0\n",
        " \n",
        "learning_rate = 0.1\n",
        "epochs = 50000\n",
        "n = len(y)\n",
        "# train: gradient descent\n",
        "for i in range(epochs):\n",
        "    # calculate predictions\n",
        "    h=0\n",
        "    error=0\n",
        "    squared_error=0\n",
        "    for j in range(422):\n",
        "      h=(np.dot(W,X[j])+b)\n",
        "      error=h-y[j]\n",
        "      squared_error=squared_error+(error**2)\n",
        "\n",
        "    # calculate error and cost (mean squared error)\n",
        "    mean_squared_error=(squared_error)/(2*n)\n",
        "    \n",
        "    w1=W[:]\n",
        "    # calculate gradients\n",
        "    for j in range(10):\n",
        "      sum1=0\n",
        "      for k in range(422):\n",
        "        h=(np.dot(w1,X[k])+b)\n",
        "        sum1+=(h-y[k])*X[k][j]\n",
        "\n",
        "      W[j]-=learning_rate*sum1/n\n",
        "      sum1=0\n",
        "      for k in range(422):\n",
        "        h=(np.dot(W,X[k])+b)\n",
        "        sum1+=(h-y[k])\n",
        "      b-=learning_rate*sum1/n\n",
        "    # diagnostic output\n",
        "    if i % 500 == 0:\n",
        "      print(\"Epoch %d: %f\" % (i, mean_squared_error))\n"
      ],
      "execution_count": 4,
      "outputs": [
        {
          "output_type": "stream",
          "text": [
            "Epoch 0: 14734.323460\n",
            "Epoch 500: 2300.910043\n",
            "Epoch 1000: 1981.769187\n",
            "Epoch 1500: 1815.739909\n",
            "Epoch 2000: 1719.442975\n",
            "Epoch 2500: 1657.489236\n",
            "Epoch 3000: 1614.243009\n",
            "Epoch 3500: 1582.342538\n",
            "Epoch 4000: 1557.999457\n",
            "Epoch 4500: 1539.048701\n",
            "Epoch 5000: 1524.120402\n",
            "Epoch 5500: 1512.274014\n",
            "Epoch 6000: 1502.826290\n",
            "Epoch 6500: 1495.263104\n",
            "Epoch 7000: 1489.189409\n",
            "Epoch 7500: 1484.297875\n",
            "Epoch 8000: 1480.347589\n",
            "Epoch 8500: 1477.148759\n",
            "Epoch 9000: 1474.551324\n",
            "Epoch 9500: 1472.436296\n",
            "Epoch 10000: 1470.709093\n",
            "Epoch 10500: 1469.294361\n",
            "Epoch 11000: 1468.131940\n",
            "Epoch 11500: 1467.173701\n",
            "Epoch 12000: 1466.381057\n",
            "Epoch 12500: 1465.723017\n",
            "Epoch 13000: 1465.174633\n",
            "Epoch 13500: 1464.715788\n",
            "Epoch 14000: 1464.330224\n",
            "Epoch 14500: 1464.004778\n",
            "Epoch 15000: 1463.728768\n",
            "Epoch 15500: 1463.493509\n",
            "Epoch 16000: 1463.291927\n",
            "Epoch 16500: 1463.118245\n",
            "Epoch 17000: 1462.967735\n",
            "Epoch 17500: 1462.836521\n",
            "Epoch 18000: 1462.721417\n",
            "Epoch 18500: 1462.619800\n",
            "Epoch 19000: 1462.529502\n",
            "Epoch 19500: 1462.448731\n",
            "Epoch 20000: 1462.376000\n",
            "Epoch 20500: 1462.310071\n",
            "Epoch 21000: 1462.249916\n",
            "Epoch 21500: 1462.194671\n",
            "Epoch 22000: 1462.143617\n",
            "Epoch 22500: 1462.096148\n",
            "Epoch 23000: 1462.051755\n",
            "Epoch 23500: 1462.010007\n",
            "Epoch 24000: 1461.970541\n",
            "Epoch 24500: 1461.933050\n",
            "Epoch 25000: 1461.897271\n",
            "Epoch 25500: 1461.862982\n",
            "Epoch 26000: 1461.829992\n",
            "Epoch 26500: 1461.798139\n",
            "Epoch 27000: 1461.767283\n",
            "Epoch 27500: 1461.737305\n",
            "Epoch 28000: 1461.708101\n",
            "Epoch 28500: 1461.679583\n",
            "Epoch 29000: 1461.651673\n",
            "Epoch 29500: 1461.624305\n",
            "Epoch 30000: 1461.597422\n",
            "Epoch 30500: 1461.570973\n",
            "Epoch 31000: 1461.544914\n",
            "Epoch 31500: 1461.519208\n",
            "Epoch 32000: 1461.493821\n",
            "Epoch 32500: 1461.468724\n",
            "Epoch 33000: 1461.443892\n",
            "Epoch 33500: 1461.419303\n",
            "Epoch 34000: 1461.394936\n",
            "Epoch 34500: 1461.370775\n",
            "Epoch 35000: 1461.346804\n",
            "Epoch 35500: 1461.323010\n",
            "Epoch 36000: 1461.299381\n",
            "Epoch 36500: 1461.275906\n",
            "Epoch 37000: 1461.252576\n",
            "Epoch 37500: 1461.229384\n",
            "Epoch 38000: 1461.206320\n",
            "Epoch 38500: 1461.183380\n",
            "Epoch 39000: 1461.160556\n",
            "Epoch 39500: 1461.137845\n",
            "Epoch 40000: 1461.115240\n",
            "Epoch 40500: 1461.092739\n",
            "Epoch 41000: 1461.070336\n",
            "Epoch 41500: 1461.048029\n",
            "Epoch 42000: 1461.025814\n",
            "Epoch 42500: 1461.003690\n",
            "Epoch 43000: 1460.981652\n",
            "Epoch 43500: 1460.959699\n",
            "Epoch 44000: 1460.937829\n",
            "Epoch 44500: 1460.916040\n",
            "Epoch 45000: 1460.894330\n",
            "Epoch 45500: 1460.872697\n",
            "Epoch 46000: 1460.851140\n",
            "Epoch 46500: 1460.829658\n",
            "Epoch 47000: 1460.808249\n",
            "Epoch 47500: 1460.786911\n",
            "Epoch 48000: 1460.765645\n",
            "Epoch 48500: 1460.744449\n",
            "Epoch 49000: 1460.723321\n",
            "Epoch 49500: 1460.702261\n"
          ],
          "name": "stdout"
        }
      ]
    },
    {
      "cell_type": "code",
      "metadata": {
        "id": "uvSdTn-0cKJL",
        "colab_type": "code",
        "colab": {
          "base_uri": "https://localhost:8080/",
          "height": 117
        },
        "outputId": "66314e36-ca6f-47fb-9b96-53527074b520"
      },
      "source": [
        "# test\n",
        "X = diabetes_X_test\n",
        "y = diabetes_y_test\n",
        "pred=np.zeros(20)\n",
        "for i in range(20):\n",
        "  pred[i]=np.dot(X[i],W)+b\n",
        "mean_squared_error=(1/(2*n))*np.sum((pred-y)**2)\n",
        "\n",
        "print('Coefficients: \\n', W)\n",
        "print (b)\n",
        "print(\"Mean squared error: %.2f\" % mean_squared_error)\n",
        "print(\"=\"*120)"
      ],
      "execution_count": 6,
      "outputs": [
        {
          "output_type": "stream",
          "text": [
            "Coefficients: \n",
            " [   4.13300969 -234.53971135  520.80707656  325.80499068 -110.07505625\n",
            "  -75.45387519 -201.81074699  112.72072621  474.20013373   79.3609858 ]\n",
            "152.72442236963533\n",
            "Mean squared error: 47.24\n",
            "========================================================================================================================\n"
          ],
          "name": "stdout"
        }
      ]
    },
    {
      "cell_type": "code",
      "metadata": {
        "id": "LwY82HrrsvH0",
        "colab_type": "code",
        "colab": {}
      },
      "source": [
        ""
      ],
      "execution_count": 0,
      "outputs": []
    }
  ]
}